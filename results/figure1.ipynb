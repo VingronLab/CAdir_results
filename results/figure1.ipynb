{
 "cells": [
  {
   "cell_type": "markdown",
   "id": "9f7c426e-dbf3-4c21-845c-2df0032459bd",
   "metadata": {},
   "source": [
    "# Setup"
   ]
  },
  {
   "cell_type": "code",
   "execution_count": null,
   "id": "4821db55-4514-4acc-9a2b-42f4c6497513",
   "metadata": {},
   "outputs": [],
   "source": [
    "source(\"./utils.R\")\n",
    "renv::load(\"/project/kohl_analysis/analysis/CAdir\")\n",
    "devtools::load_all(\"/home/kohl/PhD/gits/ClemensKohl/CAdir\")\n",
    "\n",
    "suppressPackageStartupMessages({\n",
    "  library(APL)\n",
    "  library(SingleCellExperiment)\n",
    "  library(dplyr)\n",
    "\n",
    "  # To load the data set\n",
    "  library(TENxPBMCData)\n",
    "  library(Seurat)\n",
    "  library(SeuratObject)\n",
    "  library(scater)\n",
    "  library(scuttle)\n",
    "  library(scran)\n",
    "})\n",
    "\n",
    "options(repr.plot.width = 20, repr.plot.height = 15)\n",
    "getwd()"
   ]
  },
  {
   "cell_type": "markdown",
   "id": "c71219f2-62e4-43e3-b55e-e1b91dda6c8b",
   "metadata": {},
   "source": [
    "# Pre-process and annotate data\n",
    "\n",
    "Loading data set and annotate it according to Seurat vignette."
   ]
  },
  {
   "cell_type": "code",
   "execution_count": null,
   "id": "1458b6ba-96f5-431f-9883-c8cf899d90ab",
   "metadata": {},
   "outputs": [],
   "source": [
    "sce <- sce_pbmc3k()"
   ]
  },
  {
   "cell_type": "markdown",
   "id": "0955b51a-5b60-430b-b191-6626af7a1c0d",
   "metadata": {},
   "source": [
    "# CAdir on pbmc3k data\n",
    "\n",
    "After annotating the data according to the Seurat vignette, we cluster the cells and genes using the CAdir package."
   ]
  },
  {
   "cell_type": "code",
   "execution_count": null,
   "id": "40b49089-bf88-4694-b484-a2cb07205791",
   "metadata": {},
   "outputs": [],
   "source": [
    "set.seed(1234)\n",
    "\n",
    "sce_bu <- sce\n",
    "sce.dec <- scran::modelGeneVar(sce)\n",
    "sce.top <- scran::getTopHVGs(sce.dec, prop = 0.2, var.threshold = NULL)\n",
    "sce <- sce[sce.top, ]\n",
    "sce <- runUMAP(sce, ntop = 2000)\n",
    "\n",
    "ca <- cacomp(\n",
    "    obj = as.matrix(logcounts(sce)),\n",
    "    princ_coords = 3,\n",
    "    dims = 30,\n",
    "    top = nrow(sce),\n",
    "    residuals = \"pearson\",\n",
    "    python = TRUE,\n",
    "    clip = TRUE\n",
    ")"
   ]
  },
  {
   "cell_type": "markdown",
   "id": "8e10aef2-fb9e-494f-8dc7-2e53a0acaea2",
   "metadata": {},
   "source": [
    "With `cutoff = NULL` CAdir tries to estimate the angle cutoff directly from the data."
   ]
  },
  {
   "cell_type": "code",
   "execution_count": null,
   "id": "22e37c29-d5b0-4327-8543-5a5a6fcc0cbb",
   "metadata": {},
   "outputs": [],
   "source": [
    "set.seed(2358)\n",
    "cak <- dirclust_splitmerge(\n",
    "    caobj = ca,\n",
    "    k = 9,\n",
    "    cutoff = NULL,\n",
    "    method = \"random\",\n",
    "    apl_quant = 0.9999,\n",
    "    counts = NULL,\n",
    "    min_cells = 30,\n",
    "    reps = 5,\n",
    "    make_plots = TRUE,\n",
    "    apl_cutoff_reps = 100,\n",
    "    qcutoff = 0.1\n",
    ")\n",
    "\n",
    "cadir <- rank_genes(cadir = cak, caobj = ca)\n",
    "top <- top_genes(cadir)"
   ]
  },
  {
   "cell_type": "code",
   "execution_count": null,
   "id": "8078bf11-c408-4837-a237-f104fa53258f",
   "metadata": {},
   "outputs": [],
   "source": [
    "###########\n",
    "## CAdir ##\n",
    "###########\n",
    "\n",
    "anncak <- annotate_biclustering(\n",
    "    obj = cak,\n",
    "    universe = rownames(sce),\n",
    "    org = \"hs\"\n",
    ")\n",
    "\n",
    "anncak <- rank_genes(cadir = anncak, caobj = ca)\n",
    "anncak\n",
    "\n",
    "sce$cadir <- anncak@cell_clusters\n",
    "\n",
    "um1 <- plotUMAP(sce, colour = \"cadir\")\n",
    "um2 <- plotUMAP(sce, colour = \"cell_type\")\n",
    "\n",
    "ari <- aricode::clustComp(sce$cadir, sce$cell_type)\n",
    "p <- um1 + ggtitle(paste0(\"ARI: \", round(ari$ARI, 2))) + um2\n",
    "p\n",
    "\n",
    "ggsave(plot = p, file = \"./img/figure1/umap.png\")"
   ]
  },
  {
   "cell_type": "code",
   "execution_count": null,
   "id": "ce59c013-406c-4b69-a524-5c33f0558153",
   "metadata": {},
   "outputs": [],
   "source": [
    "sm <- sm_plot(\n",
    "  cadir = cak,\n",
    "  caobj = ca,\n",
    "  rm_redund = TRUE,\n",
    "  keep_end = TRUE,\n",
    "  highlight_cluster = TRUE,\n",
    "  show_genes = F,\n",
    "  annotate_clusters = TRUE,\n",
    "  org = \"hs\"\n",
    ")\n",
    "sm\n",
    "ggsave(plot = sm, file = \"./img/figure1/split_merge_plot.pdf\")"
   ]
  },
  {
   "cell_type": "code",
   "execution_count": null,
   "id": "eb05bfa8-0b96-4130-818e-a7cab536f03a",
   "metadata": {},
   "outputs": [],
   "source": [
    "pc <- plot_clusters(anncak, ca, show_genes=T, label_genes = T, ntop = 5)\n",
    "\n",
    "ggsave(plot = pc, file = \"./img/figure1/plot_clusters.pdf\"  )"
   ]
  },
  {
   "cell_type": "code",
   "execution_count": null,
   "id": "66d98573-5e2c-4b22-9a0a-8acc266ce837",
   "metadata": {},
   "outputs": [],
   "source": [
    "line_plot <- plot_results(anncak, ca)\n",
    "line_plot"
   ]
  },
  {
   "cell_type": "code",
   "execution_count": null,
   "id": "ed4bb4af-73ae-4eac-8ab2-3ef14f24252a",
   "metadata": {},
   "outputs": [],
   "source": [
    "sessionInfo()"
   ]
  }
 ],
 "metadata": {
  "jupytext": {
   "formats": "ipynb,qmd"
  },
  "kernelspec": {
   "display_name": "R 4.4",
   "language": "R",
   "name": "ir44"
  },
  "language_info": {
   "codemirror_mode": "r",
   "file_extension": ".r",
   "mimetype": "text/x-r-source",
   "name": "R",
   "pygments_lexer": "r",
   "version": "4.4.0"
  }
 },
 "nbformat": 4,
 "nbformat_minor": 5
}
