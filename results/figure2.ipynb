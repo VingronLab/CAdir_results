{
 "cells": [
  {
   "cell_type": "markdown",
   "id": "22673bc5-4429-4a03-83c3-993b8e4e5e6a",
   "metadata": {},
   "source": [
    "# Setup"
   ]
  },
  {
   "cell_type": "code",
   "execution_count": null,
   "id": "c93432f7",
   "metadata": {},
   "outputs": [],
   "source": [
    "renv::load(\"/project/kohl_analysis/analysis/CAdir\")\n",
    "devtools::load_all(\"/home/kohl/PhD/gits/ClemensKohl/CAdir\")\n",
    "\n",
    "suppressPackageStartupMessages({\n",
    "  library(APL)\n",
    "  library(SingleCellExperiment)\n",
    "  library(dplyr)\n",
    "\n",
    "  # To load the data set\n",
    "  library(TENxPBMCData)\n",
    "  library(Seurat)\n",
    "  library(SeuratObject)\n",
    "  library(scater)\n",
    "  library(scuttle)\n",
    "  library(scran)\n",
    "})\n",
    "\n",
    "options(repr.plot.width = 20, repr.plot.height = 15)\n",
    "getwd()"
   ]
  },
  {
   "cell_type": "markdown",
   "id": "4c67d307",
   "metadata": {},
   "source": [
    "## Load data"
   ]
  },
  {
   "cell_type": "code",
   "execution_count": null,
   "id": "b5dd0e77",
   "metadata": {},
   "outputs": [],
   "source": [
    "sce <- sce_pbmc3k()"
   ]
  },
  {
   "cell_type": "markdown",
   "id": "ece0fa4f",
   "metadata": {},
   "source": [
    "# CAdir"
   ]
  },
  {
   "cell_type": "code",
   "execution_count": null,
   "id": "014b0f00",
   "metadata": {},
   "outputs": [],
   "source": [
    "set.seed(1234)\n",
    "\n",
    "sce_bu <- sce\n",
    "sce.dec <- scran::modelGeneVar(sce)\n",
    "sce.top <- scran::getTopHVGs(sce.dec, prop = 0.2, var.threshold = NULL)\n",
    "sce <- sce[sce.top, ]\n",
    "sce <- runUMAP(sce, ntop = 2000)\n",
    "\n",
    "ca <- cacomp(\n",
    "    obj = as.matrix(logcounts(sce)),\n",
    "    princ_coords = 3,\n",
    "    dims = 30,\n",
    "    top = nrow(sce),\n",
    "    residuals = \"pearson\",\n",
    "    python = TRUE,\n",
    "    clip = TRUE\n",
    ")"
   ]
  },
  {
   "cell_type": "markdown",
   "id": "618dea64",
   "metadata": {},
   "source": [
    "With `cutoff = NULL` CAdir tries to estimate the angle cutoff directly from the data."
   ]
  },
  {
   "cell_type": "code",
   "execution_count": null,
   "id": "8b5a4c9f",
   "metadata": {},
   "outputs": [],
   "source": [
    "set.seed(2358)\n",
    "cak <- dirclust_splitmerge(\n",
    "    caobj = ca,\n",
    "    k = 9,\n",
    "    cutoff = NULL,\n",
    "    method = \"random\",\n",
    "    apl_quant = 0.9999,\n",
    "    counts = NULL,\n",
    "    min_cells = 30,\n",
    "    reps = 5,\n",
    "    make_plots = TRUE,\n",
    "    apl_cutoff_reps = 100,\n",
    "    qcutoff = 0.1\n",
    ")\n",
    "\n",
    "cadir <- rank_genes(cadir = cak, caobj = ca)\n",
    "top <- top_genes(cadir)"
   ]
  }
 ],
 "metadata": {
  "jupytext": {
   "formats": "ipynb,qmd"
  },
  "kernelspec": {
   "display_name": "R 4.4",
   "language": "R",
   "name": "ir44"
  },
  "language_info": {
   "codemirror_mode": "r",
   "file_extension": ".r",
   "mimetype": "text/x-r-source",
   "name": "R",
   "pygments_lexer": "r",
   "version": "4.4.0"
  }
 },
 "nbformat": 4,
 "nbformat_minor": 5
}
