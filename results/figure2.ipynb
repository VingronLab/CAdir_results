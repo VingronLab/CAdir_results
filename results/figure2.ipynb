{
  "cells": [
    {
      "cell_type": "raw",
      "metadata": {},
      "source": [
        "---\n",
        "title: Figure 2\n",
        "---"
      ],
      "id": "d3a095d6"
    },
    {
      "cell_type": "markdown",
      "metadata": {},
      "source": [
        "# Setup\n"
      ],
      "id": "c612aad2"
    },
    {
      "cell_type": "code",
      "metadata": {},
      "source": [
        "setwd(\"/project/kohl_analysis/analysis/CAdir/results/results/\")\n",
        "renv::load(\"/project/kohl_analysis/analysis/CAdir\")\n",
        "devtools::load_all(\"/home/kohl/PhD/gits/ClemensKohl/CAdir\")\n",
        "source(\"./utils.R\")\n",
        "\n",
        "suppressPackageStartupMessages({\n",
        "  library(APL)\n",
        "  library(SingleCellExperiment)\n",
        "  library(dplyr)\n",
        "  library(tidyr)\n",
        "\n",
        "  # To load the data set\n",
        "  library(TENxPBMCData)\n",
        "  library(Seurat)\n",
        "  library(SeuratObject)\n",
        "  library(scater)\n",
        "  library(scuttle)\n",
        "  library(scran)\n",
        "\n",
        "  # Plotting\n",
        "  library(ggsankey)\n",
        "  # devtools::install_github(\"teunbrand/gguidance\")\n",
        "  library(gguidance)\n",
        "})\n",
        "\n",
        "dir <- \"/project/kohl_analysis/analysis/CAdir/results/results/\"\n",
        "imgdir <- file.path(dir, \"img/figure2/\")\n",
        "dir.create(imgdir, recursive = TRUE)\n",
        "\n",
        "options(repr.plot.width = 20, repr.plot.height = 15)"
      ],
      "id": "38a177c2",
      "execution_count": null,
      "outputs": []
    },
    {
      "cell_type": "markdown",
      "metadata": {},
      "source": [
        "## Load data\n"
      ],
      "id": "086c39d1"
    },
    {
      "cell_type": "code",
      "metadata": {},
      "source": [
        "sce <- sce_pbmc3k()"
      ],
      "id": "4c3a5cea",
      "execution_count": null,
      "outputs": []
    },
    {
      "cell_type": "markdown",
      "metadata": {},
      "source": [
        "# CAdir\n"
      ],
      "id": "a89b1a3c"
    },
    {
      "cell_type": "code",
      "metadata": {},
      "source": [
        "set.seed(1234)\n",
        "\n",
        "sce_bu <- sce\n",
        "sce.dec <- scran::modelGeneVar(sce)\n",
        "sce.top <- scran::getTopHVGs(sce.dec, prop = 0.2, var.threshold = NULL)\n",
        "sce <- sce[sce.top, ]\n",
        "sce <- runUMAP(sce, ntop = 2000)\n",
        "\n",
        "ca <- cacomp(\n",
        "    obj = as.matrix(logcounts(sce)),\n",
        "    princ_coords = 3,\n",
        "    dims = 30,\n",
        "    top = nrow(sce),\n",
        "    residuals = \"pearson\",\n",
        "    python = TRUE,\n",
        "    clip = TRUE\n",
        ")"
      ],
      "id": "c358057d",
      "execution_count": null,
      "outputs": []
    },
    {
      "cell_type": "markdown",
      "metadata": {},
      "source": [
        "With `cutoff = NULL` CAdir tries to estimate the angle cutoff directly from the data.\n",
        "\n",
        "## Split & Merge Clustering"
      ],
      "id": "2fe7fc3f"
    },
    {
      "cell_type": "code",
      "metadata": {},
      "source": [
        "set.seed(2358)\n",
        "cak <- dirclust_splitmerge(\n",
        "    caobj = ca,\n",
        "    k = 15,\n",
        "    cutoff = NULL,\n",
        "    method = \"random\",\n",
        "    apl_quant = 0.99,\n",
        "    counts = NULL,\n",
        "    min_cells = 30,\n",
        "    reps = 5,\n",
        "    make_plots = TRUE,\n",
        "    apl_cutoff_reps = 100,\n",
        "    qcutoff = 0.6 # 0.1\n",
        ")\n",
        "\n",
        "cak <- rank_genes(cadir = cak, caobj = ca)\n",
        "top <- top_genes(cak)"
      ],
      "id": "a6209bfa",
      "execution_count": null,
      "outputs": []
    },
    {
      "cell_type": "markdown",
      "metadata": {},
      "source": [
        "### Annotate clusters"
      ],
      "id": "50eb394a"
    },
    {
      "cell_type": "code",
      "metadata": {},
      "source": [
        "cak <- annotate_biclustering(\n",
        "    obj = cak,\n",
        "    universe = rownames(sce),\n",
        "    org = \"hs\"\n",
        ")\n",
        "\n",
        "cak <- rank_genes(cadir = cak, caobj = ca)\n",
        "cak\n",
        "\n",
        "sce$cadir <- cak@cell_clusters\n",
        "\n",
        "um1 <- plotUMAP(sce, colour = \"cadir\")\n",
        "um2 <- plotUMAP(sce, colour = \"cell_type\")\n",
        "\n",
        "ari <- aricode::clustComp(sce$cadir, sce$cell_type)\n",
        "p <- um1 + ggtitle(paste0(\"ARI: \", round(ari$ARI, 2))) + um2\n",
        "p\n",
        "\n",
        "ggsave(\n",
        "  plot = p,\n",
        "  file = file.path(imgdir, \"umap.png\"),\n",
        "  width = 3600,\n",
        "  height = 1800,\n",
        "  units = \"px\"\n",
        ")"
      ],
      "id": "9c376fe2",
      "execution_count": null,
      "outputs": []
    },
    {
      "cell_type": "markdown",
      "metadata": {},
      "source": [
        "## Association plots of clusters"
      ],
      "id": "ac2abfa7"
    },
    {
      "cell_type": "code",
      "metadata": {},
      "source": [
        "pc <- plot_clusters(\n",
        "  cak,\n",
        "  ca,\n",
        "  show_genes=T,\n",
        "  label_genes = T,\n",
        "  ntop = 5\n",
        ")\n",
        "\n",
        "ggsave(\n",
        "  plot = pc,\n",
        "  file = file.path(imgdir, \"plot_clusters.pdf\"),\n",
        "  width = 3400,\n",
        "  height = 2000,\n",
        "  units =\"px\"\n",
        ")\n",
        "\n",
        "pc_mod <- plot_clusters_custom(\n",
        "  cak,\n",
        "  ca,\n",
        "  show_genes=T,\n",
        "  label_genes = T,\n",
        "  ntop = 5,\n",
        "  outlier_cluster = \"cluster_5\"\n",
        ")\n",
        "\n",
        "pc_mod\n",
        "ggsave(\n",
        "  plot = pc_mod,\n",
        "  file = file.path(imgdir, \"plot_clusters.pdf\"),\n",
        "  width = 3400,\n",
        "  height = 2000,\n",
        "  units =\"px\"\n",
        ")"
      ],
      "id": "5d1c4be7",
      "execution_count": null,
      "outputs": []
    },
    {
      "cell_type": "markdown",
      "metadata": {},
      "source": [
        "### Identify outlier genes & cells"
      ],
      "id": "3e614485"
    },
    {
      "cell_type": "code",
      "metadata": {},
      "source": [
        "cak <- rank_genes(cak, ca)\n",
        "rnks <- cak@gene_ranks$cluster_5\n",
        "p_expr <- scater::plotExpression(sce, features = head(rnks$Rowname, 4), x = \"cadir\", colour_by = \"cadir\", ncol = 2) +\n",
        "  scale_color_mpimg() +\n",
        "  labs(x = \"Cluster\", title = \"Top 4 genes cluster 5\") +\n",
        "  theme_bw(base_size = 16) +\n",
        "  theme(\n",
        "  axis.text.x = element_text(angle = 45, hjust = 1, color = \"black\"),\n",
        "  legend.position = \"none\"\n",
        " )\n",
        "\n",
        "p_expr\n",
        "\n",
        "ggsave(\n",
        "  plot = p_expr,\n",
        "  file = file.path(imgdir, \"cluster_5_top_genes.pdf\"),\n",
        "  width = 2200,\n",
        "  height = 2000,\n",
        "  units = \"px\"\n",
        ")"
      ],
      "id": "c09fa6f4",
      "execution_count": null,
      "outputs": []
    },
    {
      "cell_type": "markdown",
      "metadata": {},
      "source": [
        "#### Correct outliers"
      ],
      "id": "7cb78015"
    },
    {
      "cell_type": "code",
      "metadata": {},
      "source": [
        "cell_rnk <- get_top_cells(cadir = cak, caobj = ca, cluster = \"cluster_5\")\n",
        "top_cells <- cell_rnk$Colname[cell_rnk$Score >= 0]\n",
        "head(cell_rnk)"
      ],
      "id": "022f849b",
      "execution_count": null,
      "outputs": []
    },
    {
      "cell_type": "markdown",
      "metadata": {},
      "source": [
        "Cells that are strongly associated to the cluster:"
      ],
      "id": "151d66ac"
    },
    {
      "cell_type": "code",
      "metadata": {},
      "source": [
        "p_cl5_cells <- cluster_apl(\n",
        "  ca,\n",
        "  cak,\n",
        "  cluster = \"cluster_5\",\n",
        "  direction = cak@directions[\"cluster_5\", ],\n",
        "  group = which(cak@cell_clusters == \"cluster_5\"),\n",
        "  highlight_cluster = TRUE,\n",
        "  show_genes = TRUE,\n",
        "  label_genes = FALSE,\n",
        "  show_lines = FALSE,\n",
        "  size_factor = 0.5,\n",
        "  ntop = 5\n",
        "  ) +\n",
        "ggrepel::geom_label_repel(\n",
        "    data = cell_rnk[cell_rnk$Score >= 0,],\n",
        "  ggplot2::aes(\n",
        "    x = x,\n",
        "    y = y,\n",
        "    label = Colname\n",
        "  ),\n",
        "  color = \"#c6d325\",\n",
        "  box.padding = 1,\n",
        "  max.overlaps = Inf\n",
        ")\n",
        "\n",
        "p_cl5_cells\n",
        "ggsave(\n",
        "  plot = p_cl5_cells,\n",
        "  file = file.path(imgdir, \"cluster_5_cells.pdf\"),\n",
        "  width = 1600,\n",
        "  height = 1600,\n",
        "  units = \"px\"\n",
        ")"
      ],
      "id": "a46f08b4",
      "execution_count": null,
      "outputs": []
    },
    {
      "cell_type": "markdown",
      "metadata": {},
      "source": [
        "Remove outliers:"
      ],
      "id": "50efc6b0"
    },
    {
      "cell_type": "code",
      "metadata": {},
      "source": [
        "sce_corr <- sce[(!rownames(sce) %in% rnks$Rowname[rnks$Score >= 0]), (!colnames(sce) %in% top_cells)]\n",
        "\n",
        "ca_corr <- cacomp(\n",
        "    obj = as.matrix(logcounts(sce_corr)),\n",
        "    princ_coords = 3,\n",
        "    dims = 30,\n",
        "    top = nrow(sce_corr),\n",
        "    residuals = \"pearson\",\n",
        "    python = TRUE,\n",
        "    clip = TRUE\n",
        ")\n",
        "\n",
        "set.seed(2358)\n",
        "cak_corr <- dirclust_splitmerge(\n",
        "    caobj = ca_corr,\n",
        "    k = 15,\n",
        "    cutoff = NULL,\n",
        "    method = \"random\",\n",
        "    apl_quant = 0.99,\n",
        "    counts = NULL,\n",
        "    min_cells = 30,\n",
        "    reps = 5,\n",
        "    make_plots = TRUE,\n",
        "    apl_cutoff_reps = 100,\n",
        "    qcutoff = 0.6\n",
        ")\n",
        "# cak_corr@gene_clusters <- assign_genes(cadir = cak_corr, caobj = ca_corr, qcutoff = 0.8)\n",
        "cak_corr <- annotate_biclustering(\n",
        "    obj = cak_corr,\n",
        "    universe = rownames(sce_corr),\n",
        "    org = \"hs\"\n",
        ")\n",
        "\n",
        "cak_corr <- rank_genes(cadir = cak_corr, caobj = ca_corr)\n",
        "\n",
        "pc_corr <- plot_clusters(\n",
        "  cak_corr,\n",
        "  ca_corr,\n",
        "  show_genes = T,\n",
        "  label_genes = T,\n",
        "  # ntop = 5\n",
        ")\n",
        "\n",
        "cak_corr\n",
        "pc_corr\n",
        "\n",
        "ggsave(\n",
        "  plot = pc_corr,\n",
        "  file = file.path(imgdir, \"apl_clusters_corrected.pdf\"),\n",
        "  width = 3400,\n",
        "  height = 2000,\n",
        "  units = \"px\"\n",
        ")"
      ],
      "id": "5e4890f5",
      "execution_count": null,
      "outputs": []
    },
    {
      "cell_type": "markdown",
      "metadata": {},
      "source": [
        "Sankey plot showing to which clusters the remaining cells from cluster 5 are being clustered."
      ],
      "id": "064f2db7"
    },
    {
      "cell_type": "code",
      "metadata": {},
      "source": [
        "sce_corr$cadir2 <- cak_corr@cell_clusters\n",
        "sce_sank <- sce_corr[,sce_corr$cadir == \"cluster_5\"]\n",
        "\n",
        "data <- colData(sce_sank) %>%\n",
        "        as.data.frame() %>%\n",
        "        rename('First' = \"cadir\",\n",
        "               'Second' = \"cadir2\")\n",
        "\n",
        "df <- data %>%\n",
        "    make_long(First, Second)\n",
        "\n",
        "info  <-  data.frame(Biclusters = as.factor(data$First),\n",
        "                     Truth = as.character(data$Second)) %>%\n",
        "                as_tibble() %>%\n",
        "                group_by(Biclusters, Truth) %>%\n",
        "                summarise(n = n()) %>%\n",
        "                group_by(Truth) %>%\n",
        "                mutate(Partition = n/sum(n)) %>%\n",
        "                ungroup() %>%\n",
        "                as.data.frame() %>%\n",
        "                group_by(Truth) %>%\n",
        "                filter(Partition == max(Partition) ) %>%\n",
        "                dplyr::select(Biclusters, Truth) %>%\n",
        "                distinct(Biclusters, .keep_all = TRUE)\n",
        "\n",
        "\n",
        "pal <- mpimg_pal()\n",
        "\n",
        "cols <- pal(length(unique(sce_sank$cadir)))\n",
        "names(cols) <- unique(sce_sank$cadir)\n",
        "\n",
        "info <- left_join(data.frame(\"Biclusters\" = names(cols), \"col\" = cols), info, by = \"Biclusters\")\n",
        "info$col <- pal(nrow(info) + 1)[2:3]\n",
        "\n",
        "cols <- c(cols, info$col)\n",
        "\n",
        "names(cols) <- c(as.character(unique(sce_sank$cadir)), info$Truth)\n",
        "\n",
        "\n",
        "order <- c(\n",
        "  \"cluster_5\",\n",
        "  \"Naive_CD4+_T_cell\",\n",
        "  \"Natural_killer_cell\"\n",
        ")\n",
        "\n",
        "\n",
        "wrap <- 17\n",
        "df$node <- factor(stringr::str_wrap(df$node, wrap), levels = stringr::str_wrap(order, wrap))\n",
        "df$next_node <- factor(stringr::str_wrap(df$next_node, wrap), levels = stringr::str_wrap(order, wrap))\n",
        "\n",
        "names(cols) <- stringr::str_wrap(names(cols), wrap)\n",
        "\n",
        "\n",
        "sank <- ggplot(df, aes(x = x,\n",
        "               next_x = next_x,\n",
        "               node = node,\n",
        "               next_node = next_node,\n",
        "               fill = node,\n",
        "               label = as.character(node))) +\n",
        "  geom_sankey(flow.alpha = 0.6, flow.fill = c(\"#777777\") ) +\n",
        "  geom_sankey_label(size = 6) +\n",
        "  labs(x = \"\") +\n",
        "  scale_fill_manual(values = cols) +\n",
        "  theme_sankey(base_size = 26) +\n",
        "  theme(\n",
        "    legend.position = \"none\"\n",
        "  )\n",
        "\n",
        "sank\n",
        "\n",
        "ggsave(plot = sank,\n",
        "       filename = file.path(imgdir, \"sankey_plot_cluster_5.pdf\"),\n",
        "       width = 2700,\n",
        "       height = 2000,\n",
        "       units = \"px\")"
      ],
      "id": "30444af5",
      "execution_count": null,
      "outputs": []
    },
    {
      "cell_type": "markdown",
      "metadata": {},
      "source": [
        "### Platelet cells\n"
      ],
      "id": "717e53b1"
    },
    {
      "cell_type": "code",
      "metadata": {},
      "source": [
        "cak_corr_mod <- cak_corr\n",
        "\n",
        "goa_res <- CAbiNet::per_cluster_goa(\n",
        "  cabic = cak_corr_mod,\n",
        "  universe = rownames(sce_corr),\n",
        "  set = \"CellMarker\",\n",
        "  org = \"hs\",\n",
        "  min_size = 10,\n",
        "  max_size = 500\n",
        ")\n",
        "head(goa_res$Megakaryocyte)"
      ],
      "id": "1e326b4b",
      "execution_count": null,
      "outputs": []
    },
    {
      "cell_type": "markdown",
      "metadata": {},
      "source": [
        "Top 5 most highly significant gene sets for cluster \"Megakaryocyte\":"
      ],
      "id": "e1c87f63"
    },
    {
      "cell_type": "code",
      "metadata": {},
      "source": [
        "cl_goa <- goa_res$Megakaryocyte\n",
        "\n",
        "ggplot(cl_goa[1:5, ], aes(x = gene_set, y = -log10(padj), fill = -log10(padj))) +\n",
        "  geom_col() +\n",
        "  scale_fill_gradientn(\n",
        "    colours = c(\"#29485d\", \"#006c66\", \"#c6d325\", \"#ef7c00\"),\n",
        "  ) + \n",
        "  theme_bw()"
      ],
      "id": "7a924d5b",
      "execution_count": null,
      "outputs": []
    },
    {
      "cell_type": "markdown",
      "metadata": {},
      "source": [
        "Gene Set enrichment over all corrected clusters:"
      ],
      "id": "705a47bb"
    },
    {
      "cell_type": "code",
      "metadata": {},
      "source": [
        "nclust <- length(goa_res)\n",
        "\n",
        "goa_mat <- lapply(goa_res, function(x, nc = nclust) {\n",
        "  subs <- min(nrow(x), nc)\n",
        "  x[seq_len(subs), ]\n",
        "})\n",
        "\n",
        "goa_mat <- dplyr::bind_rows(goa_mat, .id = \"cluster\")\n",
        "\n",
        "gr <- goa_mat[,c(\"cluster\", \"gene_set\", \"padj\")]\n",
        "gr <- complete(gr, cluster, gene_set, fill = list(padj = 1))\n",
        "\n",
        "p_gs_enr <- ggplot(gr, aes(x = cluster, y = gene_set, fill = -log10(padj))) +\n",
        "  geom_tile() +\n",
        "  scale_fill_gradientn(\n",
        "    colours = c(\"#29485d\", \"#006c66\", \"#c6d325\", \"#ef7c00\"),\n",
        "    limits = c(0, quantile(-log10(gr$padj), 0.99)),\n",
        "    oob = scales::squish,\n",
        "    guide = \"colourbar_custom\"\n",
        "  ) + \n",
        "  theme_bw() +\n",
        "  labs(x = \"Cluster\", y = \"Gene Set\", title = \"Gene Set enrichment\") +\n",
        "  theme(\n",
        "  axis.text.x = element_text(angle = 45, hjust = 1, color = \"black\"),\n",
        "  axis.text.y = element_text(color = \"black\"),\n",
        "    text = element_text(size = 16),\n",
        "    plot.title = element_text(size = 16, face = \"plain\"))  #\"bold\"\n",
        "\n",
        "p_gs_enr\n",
        "\n",
        "ggsave(\n",
        "  plot = p_gs_enr,\n",
        "  file = file.path(imgdir, \"gene_set_enr_hm.pdf\"),\n",
        "  width = 2000,\n",
        "  height = 3000,\n",
        "  units = \"px\"\n",
        ")"
      ],
      "id": "90613d61",
      "execution_count": null,
      "outputs": []
    },
    {
      "cell_type": "markdown",
      "metadata": {},
      "source": [
        "## Split & Merge plot"
      ],
      "id": "29308225"
    },
    {
      "cell_type": "code",
      "metadata": {},
      "source": [
        "sm <- sm_plot(\n",
        "  cadir = cak,\n",
        "  caobj = ca,\n",
        "  rm_redund = TRUE,\n",
        "  keep_end = TRUE,\n",
        "  highlight_cluster = TRUE,\n",
        "  show_genes = F,\n",
        "  annotate_clusters = TRUE,\n",
        "  org = \"hs\"\n",
        ")\n",
        "sm\n",
        "\n",
        "ggsave(plot = sm,\n",
        "  file = file.path(imgdir, \"split_merge_plot.pdf\"),\n",
        "  width = 3000,\n",
        "  height = 1800,\n",
        "  units = \"px\")"
      ],
      "id": "6d648737",
      "execution_count": null,
      "outputs": []
    },
    {
      "cell_type": "code",
      "metadata": {},
      "source": [
        "sessionInfo()"
      ],
      "id": "42b4d646",
      "execution_count": null,
      "outputs": []
    }
  ],
  "metadata": {
    "kernelspec": {
      "display_name": "R 4.4",
      "language": "R",
      "name": "ir44"
    },
    "jupytext": {
      "formats": "ipynb,qmd",
      "text_representation": {
        "extension": ".qmd",
        "format_name": "quarto",
        "format_version": "1.0",
        "jupytext_version": "1.16.1"
      }
    }
  },
  "nbformat": 4,
  "nbformat_minor": 5
}